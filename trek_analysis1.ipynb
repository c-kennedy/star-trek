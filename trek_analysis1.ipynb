{
 "cells": [
  {
   "cell_type": "markdown",
   "metadata": {},
   "source": [
    "# Fun with the *Star Trek* corpus, part I"
   ]
  },
  {
   "cell_type": "markdown",
   "metadata": {},
   "source": [
    "As a longtime Trekkie, it seemed like a neat idea to use the corpus of *Star Trek* scripts to get some experience with pandas and, hopefully, some natural language processing with spaCy. This is possible thanks to the efforts of chakoteya.net (which hosts HTML versions of the scripts) and Gary Broughton, who scraped them and put them in a much friendlier JSON format. I wrote a module called ```trekparser``` (available in this repo) to break them down even further into a big DataFrame of lines of dialogue. This DataFrame is also available in this repo, in csv format as ```table_of_lines.csv```.\n",
    "\n",
    "For the first in what I hope to be a several-part series of posts, I'll poke around this fairly large dataset, extract some fun facts, and possibly even gain some insights into large-scale properties of the Trek corpus.\n",
    "\n",
    "Two notes on terminology before we start. First, we've got a collision between TV series and pandas Series; the capitalization will distinguish them. Second, since they're going to be used extensively, the abbrevations used for the various series stand for: TOS (The Original Series, 1966-69), TAS (The Animated Series, 1973-74), TNG (The Next Generation, 1987-94), DS9 (Deep Space 9, 1993-99), VOY (Voyager, 1995-2001), and ENT (Enterprise, 2001-05). Of course, you could also get the years from the airdates in the episodes table!"
   ]
  },
  {
   "cell_type": "markdown",
   "metadata": {},
   "source": [
    "## Preliminaries"
   ]
  },
  {
   "cell_type": "markdown",
   "metadata": {},
   "source": [
    "Import all the relevant stuff, including the data:"
   ]
  },
  {
   "cell_type": "code",
   "execution_count": 1,
   "metadata": {},
   "outputs": [],
   "source": [
    "import pandas as pd\n",
    "import numpy as np\n",
    "pd.options.mode.chained_assignment = None\n",
    "\n",
    "episodes = pd.read_csv('episode_index.csv', index_col=['series','episode'])\n",
    "lines = pd.read_csv('table_of_lines.csv')"
   ]
  },
  {
   "cell_type": "markdown",
   "metadata": {},
   "source": [
    "As a sanity check, do these DataFrames look like they have the right stuff? Keep in mind that the episodes are indexed first by series lexicographically, so DS9 should come up first."
   ]
  },
  {
   "cell_type": "code",
   "execution_count": 2,
   "metadata": {},
   "outputs": [
    {
     "data": {
      "text/html": [
       "<div>\n",
       "<style scoped>\n",
       "    .dataframe tbody tr th:only-of-type {\n",
       "        vertical-align: middle;\n",
       "    }\n",
       "\n",
       "    .dataframe tbody tr th {\n",
       "        vertical-align: top;\n",
       "    }\n",
       "\n",
       "    .dataframe thead th {\n",
       "        text-align: right;\n",
       "    }\n",
       "</style>\n",
       "<table border=\"1\" class=\"dataframe\">\n",
       "  <thead>\n",
       "    <tr style=\"text-align: right;\">\n",
       "      <th></th>\n",
       "      <th></th>\n",
       "      <th>title</th>\n",
       "      <th>stardate</th>\n",
       "      <th>airdate</th>\n",
       "    </tr>\n",
       "    <tr>\n",
       "      <th>series</th>\n",
       "      <th>episode</th>\n",
       "      <th></th>\n",
       "      <th></th>\n",
       "      <th></th>\n",
       "    </tr>\n",
       "  </thead>\n",
       "  <tbody>\n",
       "    <tr>\n",
       "      <th rowspan=\"10\" valign=\"top\">DS9</th>\n",
       "      <th>0</th>\n",
       "      <td>Emissary</td>\n",
       "      <td>46379.1</td>\n",
       "      <td>3 Jan, 1993</td>\n",
       "    </tr>\n",
       "    <tr>\n",
       "      <th>1</th>\n",
       "      <td>Past Prologue</td>\n",
       "      <td>Unknown</td>\n",
       "      <td>11 Jan, 1993</td>\n",
       "    </tr>\n",
       "    <tr>\n",
       "      <th>2</th>\n",
       "      <td>A Man Alone</td>\n",
       "      <td>46421.5</td>\n",
       "      <td>17 Jan, 1993</td>\n",
       "    </tr>\n",
       "    <tr>\n",
       "      <th>3</th>\n",
       "      <td>Babel</td>\n",
       "      <td>46423.7</td>\n",
       "      <td>25 Jan, 1993</td>\n",
       "    </tr>\n",
       "    <tr>\n",
       "      <th>4</th>\n",
       "      <td>Captive Pursuit</td>\n",
       "      <td>Unknown</td>\n",
       "      <td>1 Feb, 1993</td>\n",
       "    </tr>\n",
       "    <tr>\n",
       "      <th>5</th>\n",
       "      <td>Q-less</td>\n",
       "      <td>46531.2</td>\n",
       "      <td>8 Feb, 1993</td>\n",
       "    </tr>\n",
       "    <tr>\n",
       "      <th>6</th>\n",
       "      <td>Dax</td>\n",
       "      <td>46910.1</td>\n",
       "      <td>15 Feb, 1993</td>\n",
       "    </tr>\n",
       "    <tr>\n",
       "      <th>7</th>\n",
       "      <td>The Passenger</td>\n",
       "      <td>Unknown</td>\n",
       "      <td>22 Feb, 1993</td>\n",
       "    </tr>\n",
       "    <tr>\n",
       "      <th>8</th>\n",
       "      <td>Move Along Home</td>\n",
       "      <td>Unknown</td>\n",
       "      <td>15 Mar, 1993</td>\n",
       "    </tr>\n",
       "    <tr>\n",
       "      <th>9</th>\n",
       "      <td>The Nagus</td>\n",
       "      <td>Unknown</td>\n",
       "      <td>22 Mar, 1993</td>\n",
       "    </tr>\n",
       "  </tbody>\n",
       "</table>\n",
       "</div>"
      ],
      "text/plain": [
       "                          title stardate       airdate\n",
       "series episode                                        \n",
       "DS9    0               Emissary  46379.1   3 Jan, 1993\n",
       "       1          Past Prologue  Unknown  11 Jan, 1993\n",
       "       2            A Man Alone  46421.5  17 Jan, 1993\n",
       "       3                  Babel  46423.7  25 Jan, 1993\n",
       "       4        Captive Pursuit  Unknown   1 Feb, 1993\n",
       "       5                 Q-less  46531.2   8 Feb, 1993\n",
       "       6                    Dax  46910.1  15 Feb, 1993\n",
       "       7          The Passenger  Unknown  22 Feb, 1993\n",
       "       8        Move Along Home  Unknown  15 Mar, 1993\n",
       "       9              The Nagus  Unknown  22 Mar, 1993"
      ]
     },
     "execution_count": 2,
     "metadata": {},
     "output_type": "execute_result"
    }
   ],
   "source": [
    "episodes.head(10)"
   ]
  },
  {
   "cell_type": "code",
   "execution_count": 3,
   "metadata": {},
   "outputs": [
    {
     "data": {
      "text/html": [
       "<div>\n",
       "<style scoped>\n",
       "    .dataframe tbody tr th:only-of-type {\n",
       "        vertical-align: middle;\n",
       "    }\n",
       "\n",
       "    .dataframe tbody tr th {\n",
       "        vertical-align: top;\n",
       "    }\n",
       "\n",
       "    .dataframe thead th {\n",
       "        text-align: right;\n",
       "    }\n",
       "</style>\n",
       "<table border=\"1\" class=\"dataframe\">\n",
       "  <thead>\n",
       "    <tr style=\"text-align: right;\">\n",
       "      <th></th>\n",
       "      <th>series</th>\n",
       "      <th>ep_number</th>\n",
       "      <th>scene_number</th>\n",
       "      <th>line_number</th>\n",
       "      <th>ep_name</th>\n",
       "      <th>scene_loc</th>\n",
       "      <th>character</th>\n",
       "      <th>line</th>\n",
       "    </tr>\n",
       "  </thead>\n",
       "  <tbody>\n",
       "    <tr>\n",
       "      <th>0</th>\n",
       "      <td>DS9</td>\n",
       "      <td>0</td>\n",
       "      <td>1</td>\n",
       "      <td>0</td>\n",
       "      <td>Emissary</td>\n",
       "      <td>Saratoga - Bridge</td>\n",
       "      <td>LOCUTUS</td>\n",
       "      <td>Resistance is futile. You will disarm your wea...</td>\n",
       "    </tr>\n",
       "    <tr>\n",
       "      <th>1</th>\n",
       "      <td>DS9</td>\n",
       "      <td>0</td>\n",
       "      <td>1</td>\n",
       "      <td>1</td>\n",
       "      <td>Emissary</td>\n",
       "      <td>Saratoga - Bridge</td>\n",
       "      <td>CAPTAIN</td>\n",
       "      <td>(a Vulcan) Red alert. Load all torpedo bays. R...</td>\n",
       "    </tr>\n",
       "    <tr>\n",
       "      <th>2</th>\n",
       "      <td>DS9</td>\n",
       "      <td>0</td>\n",
       "      <td>1</td>\n",
       "      <td>2</td>\n",
       "      <td>Emissary</td>\n",
       "      <td>Saratoga - Bridge</td>\n",
       "      <td>OPS OFFICER</td>\n",
       "      <td>(woman) They've locked on.</td>\n",
       "    </tr>\n",
       "    <tr>\n",
       "      <th>3</th>\n",
       "      <td>DS9</td>\n",
       "      <td>0</td>\n",
       "      <td>1</td>\n",
       "      <td>3</td>\n",
       "      <td>Emissary</td>\n",
       "      <td>Saratoga - Bridge</td>\n",
       "      <td>SISKO</td>\n",
       "      <td>Reroute auxiliary power.</td>\n",
       "    </tr>\n",
       "    <tr>\n",
       "      <th>4</th>\n",
       "      <td>DS9</td>\n",
       "      <td>0</td>\n",
       "      <td>1</td>\n",
       "      <td>4</td>\n",
       "      <td>Emissary</td>\n",
       "      <td>Saratoga - Bridge</td>\n",
       "      <td>OPS OFFICER</td>\n",
       "      <td>Our shields are being drained. Sixty four perc...</td>\n",
       "    </tr>\n",
       "    <tr>\n",
       "      <th>5</th>\n",
       "      <td>DS9</td>\n",
       "      <td>0</td>\n",
       "      <td>1</td>\n",
       "      <td>5</td>\n",
       "      <td>Emissary</td>\n",
       "      <td>Saratoga - Bridge</td>\n",
       "      <td>CAPTAIN</td>\n",
       "      <td>Recalibrate shield nutation.</td>\n",
       "    </tr>\n",
       "    <tr>\n",
       "      <th>6</th>\n",
       "      <td>DS9</td>\n",
       "      <td>0</td>\n",
       "      <td>1</td>\n",
       "      <td>6</td>\n",
       "      <td>Emissary</td>\n",
       "      <td>Saratoga - Bridge</td>\n",
       "      <td>TACTICAL</td>\n",
       "      <td>(Bolian) Modulation is having no effect.</td>\n",
       "    </tr>\n",
       "    <tr>\n",
       "      <th>7</th>\n",
       "      <td>DS9</td>\n",
       "      <td>0</td>\n",
       "      <td>1</td>\n",
       "      <td>7</td>\n",
       "      <td>Emissary</td>\n",
       "      <td>Saratoga - Bridge</td>\n",
       "      <td>OPS OFFICER</td>\n",
       "      <td>Shields have failed.</td>\n",
       "    </tr>\n",
       "    <tr>\n",
       "      <th>8</th>\n",
       "      <td>DS9</td>\n",
       "      <td>0</td>\n",
       "      <td>1</td>\n",
       "      <td>8</td>\n",
       "      <td>Emissary</td>\n",
       "      <td>Saratoga - Bridge</td>\n",
       "      <td>SISKO</td>\n",
       "      <td>Full reverse.</td>\n",
       "    </tr>\n",
       "    <tr>\n",
       "      <th>9</th>\n",
       "      <td>DS9</td>\n",
       "      <td>0</td>\n",
       "      <td>1</td>\n",
       "      <td>9</td>\n",
       "      <td>Emissary</td>\n",
       "      <td>Saratoga - Bridge</td>\n",
       "      <td>CAPTAIN</td>\n",
       "      <td>Maintain all Argh! (Everything goes BOOM)</td>\n",
       "    </tr>\n",
       "  </tbody>\n",
       "</table>\n",
       "</div>"
      ],
      "text/plain": [
       "  series  ep_number  scene_number  line_number   ep_name          scene_loc  \\\n",
       "0    DS9          0             1            0  Emissary  Saratoga - Bridge   \n",
       "1    DS9          0             1            1  Emissary  Saratoga - Bridge   \n",
       "2    DS9          0             1            2  Emissary  Saratoga - Bridge   \n",
       "3    DS9          0             1            3  Emissary  Saratoga - Bridge   \n",
       "4    DS9          0             1            4  Emissary  Saratoga - Bridge   \n",
       "5    DS9          0             1            5  Emissary  Saratoga - Bridge   \n",
       "6    DS9          0             1            6  Emissary  Saratoga - Bridge   \n",
       "7    DS9          0             1            7  Emissary  Saratoga - Bridge   \n",
       "8    DS9          0             1            8  Emissary  Saratoga - Bridge   \n",
       "9    DS9          0             1            9  Emissary  Saratoga - Bridge   \n",
       "\n",
       "     character                                               line  \n",
       "0      LOCUTUS  Resistance is futile. You will disarm your wea...  \n",
       "1      CAPTAIN  (a Vulcan) Red alert. Load all torpedo bays. R...  \n",
       "2  OPS OFFICER                         (woman) They've locked on.  \n",
       "3        SISKO                           Reroute auxiliary power.  \n",
       "4  OPS OFFICER  Our shields are being drained. Sixty four perc...  \n",
       "5      CAPTAIN                       Recalibrate shield nutation.  \n",
       "6     TACTICAL           (Bolian) Modulation is having no effect.  \n",
       "7  OPS OFFICER                               Shields have failed.  \n",
       "8        SISKO                                      Full reverse.  \n",
       "9      CAPTAIN          Maintain all Argh! (Everything goes BOOM)  "
      ]
     },
     "execution_count": 3,
     "metadata": {},
     "output_type": "execute_result"
    }
   ],
   "source": [
    "lines.head(10)"
   ]
  },
  {
   "cell_type": "markdown",
   "metadata": {},
   "source": [
    "Good so far. How about some general facts about the dataset?"
   ]
  },
  {
   "cell_type": "code",
   "execution_count": 4,
   "metadata": {},
   "outputs": [
    {
     "name": "stdout",
     "output_type": "stream",
     "text": [
      "There are 263978 total lines of dialogue across all series.\n",
      "There are 2737 distinct named characters.\n",
      "The 73rd episode of TNG is The Best of Both Worlds Part 1, which first aired on 18 Jun, 1990.\n",
      "The longest scene in the franchise by number of lines is scene 17 of the TOS episode Wolf In The Fold, which takes place \n",
      "      in the Briefing Room. It has 148 lines!\n"
     ]
    }
   ],
   "source": [
    "print('There are %d total lines of dialogue across all series.' % (len(lines)))\n",
    "print('There are %d distinct named characters.' % (len(lines.character.unique())))\n",
    "print('The 73rd episode of TNG is %s, which first aired on %s.' %\n",
    "      (episodes.loc[('TNG',72)].title, episodes.loc[('TNG',72)].airdate))\n",
    "longest = lines.loc[lines.line_number==lines.line_number.max()].squeeze()\n",
    "#note: this will only work if there's a unique longest scene\n",
    "print('''The longest scene in the franchise by number of lines is scene %d of the %s episode %s, which takes place \n",
    "      in the %s. It has %d lines!''' %\n",
    "     (longest.scene_number, longest.series, longest.ep_name, longest.scene_loc, longest.line_number+1))"
   ]
  },
  {
   "cell_type": "markdown",
   "metadata": {},
   "source": [
    "What are all the times Dr. McCoy says, \"He's dead, Jim\"?"
   ]
  },
  {
   "cell_type": "code",
   "execution_count": 5,
   "metadata": {},
   "outputs": [
    {
     "data": {
      "text/html": [
       "<div>\n",
       "<style scoped>\n",
       "    .dataframe tbody tr th:only-of-type {\n",
       "        vertical-align: middle;\n",
       "    }\n",
       "\n",
       "    .dataframe tbody tr th {\n",
       "        vertical-align: top;\n",
       "    }\n",
       "\n",
       "    .dataframe thead th {\n",
       "        text-align: right;\n",
       "    }\n",
       "</style>\n",
       "<table border=\"1\" class=\"dataframe\">\n",
       "  <thead>\n",
       "    <tr style=\"text-align: right;\">\n",
       "      <th></th>\n",
       "      <th>series</th>\n",
       "      <th>ep_number</th>\n",
       "      <th>scene_number</th>\n",
       "      <th>line_number</th>\n",
       "      <th>ep_name</th>\n",
       "      <th>scene_loc</th>\n",
       "      <th>character</th>\n",
       "      <th>line</th>\n",
       "    </tr>\n",
       "  </thead>\n",
       "  <tbody>\n",
       "    <tr>\n",
       "      <th>170721</th>\n",
       "      <td>TOS</td>\n",
       "      <td>5</td>\n",
       "      <td>33</td>\n",
       "      <td>10</td>\n",
       "      <td>The Enemy Within</td>\n",
       "      <td>Transporter Room</td>\n",
       "      <td>MCCOY</td>\n",
       "      <td>He's dead, Jim. Captain's Log, stardate 1673.1...</td>\n",
       "    </tr>\n",
       "    <tr>\n",
       "      <th>179994</th>\n",
       "      <td>TOS</td>\n",
       "      <td>32</td>\n",
       "      <td>11</td>\n",
       "      <td>11</td>\n",
       "      <td>The Changeling</td>\n",
       "      <td>Bridge</td>\n",
       "      <td>MCCOY</td>\n",
       "      <td>He's dead, Jim.</td>\n",
       "    </tr>\n",
       "    <tr>\n",
       "      <th>184112</th>\n",
       "      <td>TOS</td>\n",
       "      <td>43</td>\n",
       "      <td>2</td>\n",
       "      <td>0</td>\n",
       "      <td>Wolf In The Fold</td>\n",
       "      <td>Street</td>\n",
       "      <td>MCCOY</td>\n",
       "      <td>She's dead, Jim.</td>\n",
       "    </tr>\n",
       "    <tr>\n",
       "      <th>184179</th>\n",
       "      <td>TOS</td>\n",
       "      <td>43</td>\n",
       "      <td>9</td>\n",
       "      <td>1</td>\n",
       "      <td>Wolf In The Fold</td>\n",
       "      <td>Chamber</td>\n",
       "      <td>MCCOY</td>\n",
       "      <td>She's dead, Jim. Just like the other one.</td>\n",
       "    </tr>\n",
       "    <tr>\n",
       "      <th>184393</th>\n",
       "      <td>TOS</td>\n",
       "      <td>43</td>\n",
       "      <td>17</td>\n",
       "      <td>130</td>\n",
       "      <td>Wolf In The Fold</td>\n",
       "      <td>Briefing Room</td>\n",
       "      <td>MCCOY</td>\n",
       "      <td>He's dead, Jim.</td>\n",
       "    </tr>\n",
       "    <tr>\n",
       "      <th>190545</th>\n",
       "      <td>TOS</td>\n",
       "      <td>60</td>\n",
       "      <td>17</td>\n",
       "      <td>14</td>\n",
       "      <td>Is There In Truth No Beauty?</td>\n",
       "      <td>Engineering</td>\n",
       "      <td>MCCOY</td>\n",
       "      <td>He's dead, Jim. Captain's log, stardate 5630.8...</td>\n",
       "    </tr>\n",
       "  </tbody>\n",
       "</table>\n",
       "</div>"
      ],
      "text/plain": [
       "       series  ep_number  scene_number  line_number  \\\n",
       "170721    TOS          5            33           10   \n",
       "179994    TOS         32            11           11   \n",
       "184112    TOS         43             2            0   \n",
       "184179    TOS         43             9            1   \n",
       "184393    TOS         43            17          130   \n",
       "190545    TOS         60            17           14   \n",
       "\n",
       "                             ep_name         scene_loc character  \\\n",
       "170721              The Enemy Within  Transporter Room     MCCOY   \n",
       "179994                The Changeling            Bridge     MCCOY   \n",
       "184112              Wolf In The Fold            Street     MCCOY   \n",
       "184179              Wolf In The Fold           Chamber     MCCOY   \n",
       "184393              Wolf In The Fold     Briefing Room     MCCOY   \n",
       "190545  Is There In Truth No Beauty?       Engineering     MCCOY   \n",
       "\n",
       "                                                     line  \n",
       "170721  He's dead, Jim. Captain's Log, stardate 1673.1...  \n",
       "179994                                    He's dead, Jim.  \n",
       "184112                                   She's dead, Jim.  \n",
       "184179          She's dead, Jim. Just like the other one.  \n",
       "184393                                    He's dead, Jim.  \n",
       "190545  He's dead, Jim. Captain's log, stardate 5630.8...  "
      ]
     },
     "execution_count": 5,
     "metadata": {},
     "output_type": "execute_result"
    }
   ],
   "source": [
    "lines.loc[(lines.character=='MCCOY') & (lines.line.str.contains(\"e's dead, Jim\"))]"
   ]
  },
  {
   "cell_type": "markdown",
   "metadata": {},
   "source": [
    "Just to see how messy the formatting got, how many lines end with something other than punctuation? Seems like a good guess that some of the lines that end on a letter got cut off somehow, and might need further scrutiny..."
   ]
  },
  {
   "cell_type": "code",
   "execution_count": 6,
   "metadata": {},
   "outputs": [
    {
     "data": {
      "text/plain": [
       "0.019675882081082514"
      ]
     },
     "execution_count": 6,
     "metadata": {},
     "output_type": "execute_result"
    }
   ],
   "source": [
    "len(lines.loc[~lines.line.str.endswith(('.','!','?',')'))])/len(lines)"
   ]
  },
  {
   "cell_type": "markdown",
   "metadata": {},
   "source": [
    "Not too bad, though that is still 5194 lines of dialogue (and if you look in the value counts for ```lines.line.str.slice(-1)```, you'll see that there's some places where something wonky probably happened, like the 32 lines that end with ']' or the 2 lines that end with '}')."
   ]
  },
  {
   "cell_type": "markdown",
   "metadata": {},
   "source": [
    "Finally, let's get an example of the potential multi-index for the big DataFrame in use. As suggested in the readme, let's reset the index to be by series, ep_number, scene_number, and line_number, and then pull out a line completely at random:"
   ]
  },
  {
   "cell_type": "code",
   "execution_count": 7,
   "metadata": {},
   "outputs": [
    {
     "data": {
      "text/plain": [
       "ep_name                         The Best of Both Worlds Part 1\n",
       "scene_loc                                               Bridge\n",
       "character                                               PICARD\n",
       "line         I am Locutus of Borg. Resistance is futile. Yo...\n",
       "Name: (TNG, 72, 46, 16), dtype: object"
      ]
     },
     "execution_count": 7,
     "metadata": {},
     "output_type": "execute_result"
    }
   ],
   "source": [
    "lines.set_index(['series','ep_number','scene_number','line_number'], inplace=True)\n",
    "lines.loc[('TNG',72,46,16)]"
   ]
  }
 ],
 "metadata": {
  "kernelspec": {
   "display_name": "Python 3",
   "language": "python",
   "name": "python3"
  },
  "language_info": {
   "codemirror_mode": {
    "name": "ipython",
    "version": 3
   },
   "file_extension": ".py",
   "mimetype": "text/x-python",
   "name": "python",
   "nbconvert_exporter": "python",
   "pygments_lexer": "ipython3",
   "version": "3.6.7"
  }
 },
 "nbformat": 4,
 "nbformat_minor": 2
}
