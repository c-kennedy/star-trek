{
 "cells": [
  {
   "cell_type": "markdown",
   "metadata": {},
   "source": [
    "# Where do characters spend their time?"
   ]
  },
  {
   "cell_type": "markdown",
   "metadata": {},
   "source": [
    "For this part, I want to examine which characters can be found where in each series."
   ]
  },
  {
   "cell_type": "code",
   "execution_count": null,
   "metadata": {},
   "outputs": [],
   "source": [
    "import pandas as pd\n",
    "import numpy as np\n",
    "import matplotlib.pyplot as plt\n",
    "import seaborn as sns\n",
    "pd.options.mode.chained_assignment = None\n",
    "\n",
    "episodes = pd.read_csv('..episode_index_sorted.csv', index_col=['series','episode'])\n",
    "lines = pd.read_csv('table_of_lines.csv')"
   ]
  },
  {
   "cell_type": "markdown",
   "metadata": {},
   "source": [
    "We've seen that the Bridge is the most common location in all six series, to varying degrees. But presumably some characters spend more time there than others. Let's make a heat map showing where the characters with the most lines in each series say those lines. As a start, we can pivot into a table indexed by characters, with scene locations as columns, counting lines. For the moment, let's just do it for TNG, and then we can wrap the whole process up into a function to apply to the other series:"
   ]
  },
  {
   "cell_type": "code",
   "execution_count": null,
   "metadata": {},
   "outputs": [],
   "source": [
    "TNG_lines = lines.loc[lines.series=='TNG']\n",
    "TNG_pivot = TNG_lines.pivot_table(values='line', index='character', \n",
    "                                  columns='scene_loc', aggfunc='count').fillna(0).astype('int')\n",
    "TNG_pivot"
   ]
  },
  {
   "cell_type": "markdown",
   "metadata": {},
   "source": [
    "Well, that's unwieldy. Let's narrow it down to just the regulars (the 7 characters with the most lines), and the 10 locations with the most lines spoken by those characters."
   ]
  },
  {
   "cell_type": "code",
   "execution_count": null,
   "metadata": {},
   "outputs": [],
   "source": [
    "TNG_pivot['row_sum'] = TNG_pivot.apply(sum, axis=1)\n",
    "TNG_pivot.sort_values(by='row_sum', ascending=False, inplace=True)\n",
    "TNG_regulars = TNG_pivot.iloc[:7,:]\n",
    "TNG_regulars"
   ]
  },
  {
   "cell_type": "code",
   "execution_count": null,
   "metadata": {},
   "outputs": [],
   "source": [
    "pd.set_option('max_columns', 11)\n",
    "TNG_regulars.loc['total'] = TNG_regulars.sum()\n",
    "TNG_regulars.sort_values(by='total', ascending=False, axis=1, inplace=True)\n",
    "TNG_regulars_locations = TNG_regulars.iloc[:,:11]\n",
    "TNG_regulars_locations"
   ]
  },
  {
   "cell_type": "markdown",
   "metadata": {},
   "source": [
    "Finally, let's convert these to percentages and generate the heat map using Seaborn."
   ]
  },
  {
   "cell_type": "code",
   "execution_count": null,
   "metadata": {},
   "outputs": [],
   "source": [
    "heat_map_table = TNG_regulars_locations.div(TNG_regulars_locations.row_sum, axis=0)\n",
    "heat_map_table.drop(index=['total'], columns=['row_sum'], inplace=True)\n",
    "sns.heatmap(heat_map_table)"
   ]
  },
  {
   "cell_type": "markdown",
   "metadata": {},
   "source": [
    "One obvious thing that could probably be fixed here is that the Bridge clearly dominates for almost everone, to the point where lots of lower values get crunched together into dark purple (and if we capped the color scale lower, we'd just end up with a column of mostly white). Worf, especially, needs to take a vacation already--a fact that is much more obvious (to me, at least) from the heat map than from the pure table of numbers. Here's a second stab at the graph, this time with some cleanup:"
   ]
  },
  {
   "cell_type": "code",
   "execution_count": null,
   "metadata": {},
   "outputs": [],
   "source": [
    "heat_map_table.drop(columns=['Bridge'], inplace=True)\n",
    "heat_map_table.index.names=['Character']\n",
    "heat_map_table.columns.names=['Location']\n",
    "figure, ax = plt.subplots(figsize=(12,8))\n",
    "plt.suptitle('Character locations in TNG', fontsize=14, fontweight='bold')\n",
    "sns.heatmap(heat_map_table, ax=ax)"
   ]
  },
  {
   "cell_type": "markdown",
   "metadata": {},
   "source": [
    "The code for making this plot for the rest of the series is in the hidden cell below (it's basically the last several cells glued together). The next cell produces a set of subplots for all the series."
   ]
  },
  {
   "cell_type": "code",
   "execution_count": null,
   "metadata": {
    "code_folding": [
     0
    ]
   },
   "outputs": [],
   "source": [
    "def character_location_plot(series, size, regulars, locations=10, drop_Bridge=True, ax=None):\n",
    "    #series: 'TNG', 'TOS', etc.\n",
    "    #size: ordered pair for size of the axes to draw on\n",
    "    #regulars: how many characters to keep\n",
    "    #locations: how many locations to keep, including the Bridge regardless of drop_Bridge\n",
    "    #drop_bridge: whether to eliminate the Bridge from consideration\n",
    "    #ax: pass in an Axis to drop the graph into; otherwise, one is created for this plot\n",
    "    series_lines = lines.loc[lines.series==series]\n",
    "    series_pivot = series_lines.pivot_table(values='line', index='character', \n",
    "                                  columns='scene_loc', aggfunc='count').fillna(0).astype('int')\n",
    "    series_pivot['row_sum'] = series_pivot.apply(sum, axis=1)\n",
    "    series_pivot.sort_values(by='row_sum', ascending=False, inplace=True)\n",
    "    series_regulars = series_pivot.iloc[:regulars,:]\n",
    "    series_regulars.loc['total'] = series_regulars.sum()\n",
    "    series_regulars.sort_values(by='total', ascending=False, axis=1, inplace=True)\n",
    "    series_regulars_locations = series_regulars.iloc[:,:locations+1]\n",
    "    heat_map_table = series_regulars_locations.div(series_regulars_locations.row_sum, axis=0)\n",
    "    heat_map_table.drop(index=['total'], columns=['row_sum'], inplace=True)\n",
    "    if drop_Bridge:\n",
    "        heat_map_table.drop(columns=['Bridge'], inplace=True)\n",
    "    if ax==None:\n",
    "        figure, ax = plt.subplots(figsize=size)\n",
    "        heat_map_table.index.names=['Character']\n",
    "        heat_map_table.columns.names=['Location']\n",
    "    else:\n",
    "        heat_map_table.index.names=['']\n",
    "        heat_map_table.columns.names=['']\n",
    "    g = sns.heatmap(heat_map_table, vmin=0, vmax=0.16, cmap='coolwarm', ax=ax, robust=True)\n",
    "    g.set_xticklabels(g.get_xticklabels(), rotation = 45, ha='right')\n",
    "    g.set_yticklabels(g.get_yticklabels(), rotation = 0)\n",
    "    g.set_title(series, fontsize=14, fontweight='bold')\n",
    "    return g"
   ]
  },
  {
   "cell_type": "code",
   "execution_count": null,
   "metadata": {},
   "outputs": [],
   "source": [
    "fig, [[ax_TOS, ax_TAS], [ax_TNG, ax_DS9], [ax_VOY, ax_ENT]] = plt.subplots(3,2, figsize=(15,18))\n",
    "fig.subplots_adjust(hspace=0.4, wspace=0.4)\n",
    "plt.suptitle('Character locations in Star Trek', fontsize=16, fontweight='bold')\n",
    "character_location_plot('TOS', (7,6), 7, locations=8, ax=ax_TOS)\n",
    "character_location_plot('TAS', (7,6), 7, locations=6, ax=ax_TAS)\n",
    "character_location_plot('TNG', (7,6), 8, ax=ax_TNG)\n",
    "character_location_plot('DS9', (7,6), 11, drop_Bridge=False, ax=ax_DS9)\n",
    "character_location_plot('VOY', (7,6), 10, ax=ax_VOY)\n",
    "character_location_plot('ENT', (7,6), 7, ax=ax_ENT)"
   ]
  },
  {
   "cell_type": "markdown",
   "metadata": {},
   "source": [
    "There's some fun little tidbits in all of these.\n",
    "\n",
    "* TOS really leaned on going to see McCoy in Sickbay (it was the most popular non-Bridge location!), but McCoy also got out and about more than any other doctor--all the others max out the scale in Sickbay.\n",
    "* You can see the imprints of a couple of romances; Kes and Neelix have a neat little reciprocal corner on VOY, and T'Pol's Quarters are dark blue for everyone but T'Pol and Tucker. Ditto Crusher in Picard's Quarters, which is more dubious.\n",
    "* Troi spends a lot of time in Ten Forward, maybe evidence of the writers not really knowing what to do with her (on the flip side, remember how drunk she got in *First Contact*?).\n",
    "* ENT's Tucker is really the only engineer to break out of spending tons of time in Engineering.\n",
    "* VOY really pigeonholed its crew members--five of them spend a scale-breaking amount of time somewhere."
   ]
  },
  {
   "cell_type": "code",
   "execution_count": null,
   "metadata": {},
   "outputs": [],
   "source": []
  }
 ],
 "metadata": {
  "kernelspec": {
   "display_name": "Python 3",
   "language": "python",
   "name": "python3"
  },
  "language_info": {
   "codemirror_mode": {
    "name": "ipython",
    "version": 3
   },
   "file_extension": ".py",
   "mimetype": "text/x-python",
   "name": "python",
   "nbconvert_exporter": "python",
   "pygments_lexer": "ipython3",
   "version": "3.6.7"
  }
 },
 "nbformat": 4,
 "nbformat_minor": 2
}
